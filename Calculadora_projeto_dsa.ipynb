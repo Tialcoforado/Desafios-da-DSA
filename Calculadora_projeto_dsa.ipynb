{
  "nbformat": 4,
  "nbformat_minor": 0,
  "metadata": {
    "colab": {
      "name": "Calculadora - projeto dsa.ipynb",
      "provenance": [],
      "authorship_tag": "ABX9TyN4vJPpBccJF0Z67epAA1O7"
    },
    "kernelspec": {
      "name": "python3",
      "display_name": "Python 3"
    },
    "language_info": {
      "name": "python"
    }
  },
  "cells": [
    {
      "cell_type": "code",
      "metadata": {
        "colab": {
          "base_uri": "https://localhost:8080/"
        },
        "id": "KW8rZRA_1CL7",
        "outputId": "fcd1c482-41ce-4628-84c7-3551db5482a5"
      },
      "source": [
        "# Calculadora em python\n",
        "\n",
        "#definindo instancias\n",
        "\n",
        "def adicao(x, y):\n",
        "  return x + y\n",
        "\n",
        "def subtracao(x, y):\n",
        "  return x - y\n",
        "\n",
        "def multiplicacao(x, y):\n",
        "  return x * y\n",
        "\n",
        "def divisao(x, y):\n",
        "  return x / y\n",
        "\n",
        "print(\"1 - adicao, 2 - subtracao, 3 - multiplicacao, 4 - divisao\")\n",
        "print(\"Ola eu sou a calculadora, digite o numero da operacao matematica desejada\")\n",
        "escolha = input(\"Digite a opcao desejada (1/2/3/4): \")\n",
        "\n",
        "num1 = int(input(\"digite o primeiro numero: \"))\n",
        "num2 = int(input(\"digite o segundo numero: \"))\n",
        "\n",
        "# construindo o loop if elif else para a calculadora saber\n",
        "# o que fazer para cada opcao escolhida pelo usuário\n",
        "# importante colocar como para else retorno que evite escolhas indesejadas\n",
        "\n",
        "if escolha == \"1\":\n",
        "  print(num1, \"+\", num2, \"=\", adicao(num1, num2))\n",
        "elif escolha == \"2\":\n",
        "  print(num1, \"-\", num2, \"=\", subtracao(num1, num2))\n",
        "elif escolha == \"3\":\n",
        "  print(num1, \"*\", num2, \"=\", multiplicacao(num1, num2))\n",
        "elif escolha == \"4\":\n",
        "  print(num1, \"/\", num2, \"=\", divisao(num1, num2))\n",
        "else:\n",
        "  print(\"Opcao invalida!\")\n",
        "\n"
      ],
      "execution_count": 2,
      "outputs": [
        {
          "output_type": "stream",
          "text": [
            "1 - adicao, 2 - subtracao, 3 - multiplicacao, 4 - divisao\n",
            "Ola eu sou a calculadora, digite o numero da operacao matematica desejada\n",
            "Digite a opcao desejada (1/2/3/4): 2\n",
            "digite o primeiro numero: 23414\n",
            "digite o segundo numero: 53769\n",
            "23414 - 53769 = -30355\n"
          ],
          "name": "stdout"
        }
      ]
    }
  ]
}