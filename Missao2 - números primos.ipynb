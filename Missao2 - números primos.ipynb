{
 "cells": [
  {
   "cell_type": "markdown",
   "metadata": {},
   "source": [
    "## Missão: Gerar uma lista de números primos."
   ]
  },
  {
   "cell_type": "markdown",
   "metadata": {},
   "source": [
    "## Premissas\n",
    "\n",
    "* É correto que 1 não seja considerado um número primo?\n",
    "     * Sim\n",
    "* Podemos assumir que as entradas são válidas?\n",
    "     * Não\n",
    "* Podemos supor que isso se encaixa na memória?\n",
    "     * Sim"
   ]
  },
  {
   "cell_type": "markdown",
   "metadata": {},
   "source": [
    "## Teste Cases\n",
    "\n",
    "* None -> Exception\n",
    "* Not an int -> Exception\n",
    "* 20 -> [False, False, True, True, False, True, False, True, False, False, False, True, False, True, False, False, False, True, False, True]"
   ]
  },
  {
   "cell_type": "markdown",
   "metadata": {},
   "source": [
    "## Algoritmo\n",
    "\n",
    "Para um número ser primo, ele deve ser 2 ou maior e não pode ser divisível por outro número diferente de si mesmo (e 1).\n",
    "\n",
    "Todos os números não-primos são divisíveis por um número primo.\n",
    "\n",
    "* Use uma matriz (array) para manter o controle de cada número inteiro até o máximo\n",
    "* Comece em 2, termine em sqrt (max)\n",
    "     * Podemos usar o sqrt (max) em vez do max porque:\n",
    "         * Para cada valor que divide o número de entrada uniformemente, há um complemento b onde a * b = n\n",
    "         * Se a> sqrt (n) então b <sqrt (n) porque sqrt (n ^ 2) = n\n",
    "     * \"Cross off\" todos os números divisíveis por 2, 3, 5, 7, ... configurando array [index] para False\n",
    "\n",
    "Animação do Wikipedia:\n",
    "\n",
    "![alt text](https://upload.wikimedia.org/wikipedia/commons/b/b9/Sieve_of_Eratosthenes_animation.gif)"
   ]
  },
  {
   "cell_type": "code",
   "execution_count": null,
   "metadata": {},
   "outputs": [],
   "source": [
    "## Solução alternativa encontrada mediante pesquisa fonte:\n",
    "##<https://pt.stackoverflow.com/questions/205458/obter-a-lista-de-n%C3%BAmeros-primos-menores-que-n>\n",
    "## essa solução parece mais facil de ser compreendida porque testa se a divisao de um numero no range é exata\n",
    "## porem a solucao proposta pela DSA é muito mais eficiente uma vez que vai eliminando\n",
    "## os multiplos dos numeros primos, \n",
    "\n",
    "## The Sieve of Eratosthenes <https://en.wikipedia.org/wiki/File:Sieve_of_Eratosthenes_animation.gif>\n",
    "# LISTA OS NÚMEROS PRIMOS ATÉ X(=120) EM LISTA\n",
    "# solução menos eficiente \"nivel iniciante\", precisa calcular cada numero em uma lista de 1 até 120"
   ]
  },
  {
   "cell_type": "code",
   "execution_count": 2,
   "metadata": {},
   "outputs": [
    {
     "name": "stdout",
     "output_type": "stream",
     "text": [
      "[2, 3, 5, 7, 11, 13, 17, 19, 23, 29, 31, 37, 41, 43, 47, 53, 59, 61, 67, 71, 73, 79, 83, 89, 97, 101, 103, 107, 109, 113]\n"
     ]
    }
   ],
   "source": [
    "numeros = []\n",
    "def lista(x):\n",
    "    for i in range(1, x+1):\n",
    "        div = 0\n",
    "        for j in range(1, i+1):\n",
    "             if(i%j == 0):\n",
    "                    div = div + 1\n",
    "        if (div == 2):\n",
    "            numeros.append(i)\n",
    "    print(numeros)\n",
    "lista(120)"
   ]
  },
  {
   "cell_type": "code",
   "execution_count": null,
   "metadata": {},
   "outputs": [],
   "source": [
    "## Solução proposta pela DSA\n",
    "## Nivel Pro, metodo exlcui os numeros multiplos dos numeros primos encontrados"
   ]
  },
  {
   "cell_type": "code",
   "execution_count": 3,
   "metadata": {},
   "outputs": [],
   "source": [
    "import math\n",
    "\n",
    "\n",
    "class PrimeGenerator(object):\n",
    "\n",
    "    def generate_primes(self, max_num):\n",
    "        if max_num is None:\n",
    "            raise TypeError(\"max_num nao pode ser None\")\n",
    "        array = [True] * max_num\n",
    "        array[0] = False\n",
    "        array[1] = False\n",
    "        prime = 2\n",
    "        while prime <= math.sqrt(max_num):\n",
    "            self._cross_off(array, prime)\n",
    "            prime = self._next_prime(array, prime)\n",
    "        return array\n",
    "\n",
    "    def _cross_off(self, array, prime):\n",
    "        for index in range(prime*prime, len(array), prime):\n",
    "            array[index] = False\n",
    "\n",
    "    def _next_prime(self, array, prime):\n",
    "        next = prime + 1\n",
    "        while next < len(array) and not array[next]:\n",
    "            next += 1\n",
    "        return next"
   ]
  },
  {
   "cell_type": "markdown",
   "metadata": {},
   "source": [
    "## Teste da Solução"
   ]
  },
  {
   "cell_type": "code",
   "execution_count": 4,
   "metadata": {},
   "outputs": [
    {
     "name": "stdout",
     "output_type": "stream",
     "text": [
      "Overwriting missao2.py\n"
     ]
    }
   ],
   "source": [
    "%%writefile missao2.py\n",
    "from nose.tools import assert_equal, assert_raises\n",
    "\n",
    "\n",
    "class TestMath(object):\n",
    "\n",
    "    def test_generate_primes(self):\n",
    "        prime_generator = PrimeGenerator()\n",
    "        assert_raises(TypeError, prime_generator.generate_primes, None)\n",
    "        assert_raises(TypeError, prime_generator.generate_primes, 98.6)\n",
    "        assert_equal(prime_generator.generate_primes(20), [False, False, True, \n",
    "                                                           True, False, True, \n",
    "                                                           False, True, False, \n",
    "                                                           False, False, True, \n",
    "                                                           False, True, False, \n",
    "                                                           False, False, True, \n",
    "                                                           False, True])\n",
    "        print('Sua solução foi executada com sucesso! Parabéns!')\n",
    "\n",
    "\n",
    "def main():\n",
    "    test = TestMath()\n",
    "    test.test_generate_primes()\n",
    "\n",
    "\n",
    "if __name__ == '__main__':\n",
    "    main()"
   ]
  },
  {
   "cell_type": "code",
   "execution_count": 5,
   "metadata": {},
   "outputs": [
    {
     "name": "stdout",
     "output_type": "stream",
     "text": [
      "Sua solução foi executada com sucesso! Parabéns!\n"
     ]
    }
   ],
   "source": [
    "%run -i missao2.py"
   ]
  },
  {
   "cell_type": "markdown",
   "metadata": {},
   "source": [
    "## Fim"
   ]
  }
 ],
 "metadata": {
  "kernelspec": {
   "display_name": "Python 3",
   "language": "python",
   "name": "python3"
  },
  "language_info": {
   "codemirror_mode": {
    "name": "ipython",
    "version": 3
   },
   "file_extension": ".py",
   "mimetype": "text/x-python",
   "name": "python",
   "nbconvert_exporter": "python",
   "pygments_lexer": "ipython3",
   "version": "3.8.5"
  }
 },
 "nbformat": 4,
 "nbformat_minor": 1
}
